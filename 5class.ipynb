{
 "cells": [
  {
   "cell_type": "code",
   "execution_count": null,
   "metadata": {},
   "outputs": [],
   "source": [
    "#string function\n",
    "a=\"Today is wednesday\"\n",
    "b=(\"abcd1234\")"
   ]
  },
  {
   "cell_type": "code",
   "execution_count": 3,
   "metadata": {},
   "outputs": [
    {
     "name": "stdout",
     "output_type": "stream",
     "text": [
      "\\n i love \\n music\n",
      "\\f i love \\n music\n",
      "{a}\\n i like tea\n",
      "{a}\\f i like tea\n"
     ]
    }
   ],
   "source": [
    "#string formating\n",
    "#raw & formatting\n",
    "a=\"kowsi\"\n",
    "print(r\"\\n i love \\n music\")\n",
    "print(r\"\\f i love \\n music\")\n",
    "print(r\"{a}\\n i like tea\")\n",
    "print(r\"{a}\\f i like tea\")\n",
    "\n"
   ]
  },
  {
   "cell_type": "code",
   "execution_count": 4,
   "metadata": {},
   "outputs": [
    {
     "name": "stdout",
     "output_type": "stream",
     "text": [
      "today is t\n",
      "ay is thurusday\n",
      "tdyi \n",
      "tdyi hrsa\n",
      "yadsuruht si yadoT\n"
     ]
    }
   ],
   "source": [
    "#slicing\n",
    "a=\"today is thurusday\"\n",
    "print(a[0:10])\n",
    "print(a[3:])\n",
    "print(a[0:10:2])\n",
    "print(a[::2])\n",
    "print(a.capitalize()[::-1])\n"
   ]
  },
  {
   "cell_type": "code",
   "execution_count": 6,
   "metadata": {},
   "outputs": [
    {
     "name": "stdout",
     "output_type": "stream",
     "text": [
      "[1, 1.5, 'nirmal', [1, 2, 3]]\n",
      "1\n",
      "2\n"
     ]
    }
   ],
   "source": [
    "#List and its operation\n",
    "a=[\"today\",\"yesterday\",\"tomorrow\"]\n",
    "b=[1,1.5,\"nirmal\", [1,2,3]]\n",
    "print(b)\n",
    "print(b[0])\n",
    "print(b[3][1])"
   ]
  },
  {
   "cell_type": "code",
   "execution_count": 42,
   "metadata": {},
   "outputs": [
    {
     "name": "stdout",
     "output_type": "stream",
     "text": [
      "[1, 2, 'kowsi', 'guvi', 12345, 123456]\n"
     ]
    }
   ],
   "source": [
    "#List operations\n",
    "#append\n",
    "a=[1,2]\n",
    "a.append(\"kowsi\")\n",
    "a.append(\"guvi\")\n",
    "a.append(12345)\n",
    "a.append(123456)\n",
    "print(a)"
   ]
  },
  {
   "cell_type": "code",
   "execution_count": null,
   "metadata": {},
   "outputs": [],
   "source": [
    "#Tuple \n",
    "#Modified panna mudeyathu"
   ]
  },
  {
   "cell_type": "code",
   "execution_count": 44,
   "metadata": {},
   "outputs": [
    {
     "name": "stdout",
     "output_type": "stream",
     "text": [
      "{1, 2, 3, 4, 6, 7, 8}\n"
     ]
    }
   ],
   "source": [
    "#set\n",
    "#Duplicates varathu\n",
    "a={1,2,3,4,2,3,4,6,7,8}\n",
    "print(a)"
   ]
  },
  {
   "cell_type": "code",
   "execution_count": 7,
   "metadata": {},
   "outputs": [
    {
     "name": "stdout",
     "output_type": "stream",
     "text": [
      "{'name': 'kowsi', 'lang': 'tamil', 'state': 'TN'}\n",
      "kowsi\n"
     ]
    },
    {
     "ename": "NameError",
     "evalue": "name 'name' is not defined",
     "output_type": "error",
     "traceback": [
      "\u001b[1;31m---------------------------------------------------------------------------\u001b[0m",
      "\u001b[1;31mNameError\u001b[0m                                 Traceback (most recent call last)",
      "Cell \u001b[1;32mIn[7], line 5\u001b[0m\n\u001b[0;32m      3\u001b[0m \u001b[38;5;28mprint\u001b[39m(a)\n\u001b[0;32m      4\u001b[0m \u001b[38;5;28mprint\u001b[39m(a[\u001b[38;5;124m\"\u001b[39m\u001b[38;5;124mname\u001b[39m\u001b[38;5;124m\"\u001b[39m])\n\u001b[1;32m----> 5\u001b[0m a[\u001b[43mname\u001b[49m]\u001b[38;5;241m=\u001b[39m\u001b[38;5;124m'\u001b[39m\u001b[38;5;124myaathu\u001b[39m\u001b[38;5;124m'\u001b[39m\n\u001b[0;32m      6\u001b[0m \u001b[38;5;28mprint\u001b[39m(a)\n",
      "\u001b[1;31mNameError\u001b[0m: name 'name' is not defined"
     ]
    }
   ],
   "source": [
    "#Dictory\n",
    "a={\"name\":\"kowsi\",\"lang\":\"tamil\",\"state\":\"TN\"}\n",
    "print(a)\n",
    "print(a[\"name\"])\n",
    "a[name]='yaathu'\n",
    "print(a)"
   ]
  }
 ],
 "metadata": {
  "kernelspec": {
   "display_name": "Python 3",
   "language": "python",
   "name": "python3"
  },
  "language_info": {
   "codemirror_mode": {
    "name": "ipython",
    "version": 3
   },
   "file_extension": ".py",
   "mimetype": "text/x-python",
   "name": "python",
   "nbconvert_exporter": "python",
   "pygments_lexer": "ipython3",
   "version": "3.12.2"
  }
 },
 "nbformat": 4,
 "nbformat_minor": 2
}
