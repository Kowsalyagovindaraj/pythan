{
 "cells": [
  {
   "cell_type": "code",
   "execution_count": 1,
   "metadata": {},
   "outputs": [],
   "source": [
    "#class and objects \n",
    "class laptop():\n",
    "\n",
    "   model = \"hp laptop\"\n",
    "   battery = \"10 hr\""
   ]
  },
  {
   "cell_type": "code",
   "execution_count": 3,
   "metadata": {},
   "outputs": [
    {
     "name": "stdout",
     "output_type": "stream",
     "text": [
      "hp laptop\n",
      "10 hr\n",
      "hp laptop\n",
      "10 hr\n"
     ]
    }
   ],
   "source": [
    "a=laptop()\n",
    "b=laptop()\n",
    "print(a.model)\n",
    "print(a.battery)\n",
    "print(b.model)\n",
    "print(b.battery)\n"
   ]
  },
  {
   "cell_type": "code",
   "execution_count": 18,
   "metadata": {},
   "outputs": [
    {
     "ename": "TypeError",
     "evalue": "bankaccount() takes no arguments",
     "output_type": "error",
     "traceback": [
      "\u001b[1;31m---------------------------------------------------------------------------\u001b[0m",
      "\u001b[1;31mTypeError\u001b[0m                                 Traceback (most recent call last)",
      "Cell \u001b[1;32mIn[18], line 10\u001b[0m\n\u001b[0;32m      8\u001b[0m         \u001b[38;5;28mself\u001b[39m\u001b[38;5;241m.\u001b[39mbalance\u001b[38;5;241m=\u001b[39m\u001b[38;5;28mself\u001b[39m\u001b[38;5;241m.\u001b[39mbalance\u001b[38;5;241m+\u001b[39mamount\n\u001b[0;32m      9\u001b[0m         \u001b[38;5;28;01mreturn\u001b[39;00m \u001b[38;5;28mself\u001b[39m\u001b[38;5;241m.\u001b[39mbalance\n\u001b[1;32m---> 10\u001b[0m kowsi\u001b[38;5;241m=\u001b[39m\u001b[43mbankaccount\u001b[49m\u001b[43m(\u001b[49m\u001b[38;5;124;43m\"\u001b[39;49m\u001b[38;5;124;43mkowsi G\u001b[39;49m\u001b[38;5;124;43m\"\u001b[39;49m\u001b[43m,\u001b[49m\u001b[38;5;241;43m10000\u001b[39;49m\u001b[43m)\u001b[49m\n\u001b[0;32m     11\u001b[0m yaathu\u001b[38;5;241m=\u001b[39mbankaccount(\u001b[38;5;124m\"\u001b[39m\u001b[38;5;124myaathu B\u001b[39m\u001b[38;5;124m\"\u001b[39m,\u001b[38;5;241m20000\u001b[39m)\n\u001b[0;32m     12\u001b[0m \u001b[38;5;28mprint\u001b[39m(kowsi\u001b[38;5;241m.\u001b[39ma)\n",
      "\u001b[1;31mTypeError\u001b[0m: bankaccount() takes no arguments"
     ]
    }
   ],
   "source": [
    "class bankaccount():\n",
    "    \n",
    "    def _init_(self,name,balance):\n",
    "      self.a=name\n",
    "      self.b=balance\n",
    "      \n",
    "    def deposit(self,amount):\n",
    "        self.balance=self.balance+amount\n",
    "        return self.balance\n",
    "kowsi=bankaccount(\"kowsi G\",10000)\n",
    "yaathu=bankaccount(\"yaathu B\",20000)\n",
    "print(kowsi.a)\n",
    "\n",
    "    \n",
    "\n",
    "    "
   ]
  },
  {
   "cell_type": "code",
   "execution_count": 16,
   "metadata": {},
   "outputs": [
    {
     "ename": "TypeError",
     "evalue": "bankaccount() takes no arguments",
     "output_type": "error",
     "traceback": [
      "\u001b[1;31m---------------------------------------------------------------------------\u001b[0m",
      "\u001b[1;31mTypeError\u001b[0m                                 Traceback (most recent call last)",
      "Cell \u001b[1;32mIn[16], line 1\u001b[0m\n\u001b[1;32m----> 1\u001b[0m kowsi\u001b[38;5;241m=\u001b[39m\u001b[43mbankaccount\u001b[49m\u001b[43m(\u001b[49m\u001b[38;5;124;43m\"\u001b[39;49m\u001b[38;5;124;43mkowsi G\u001b[39;49m\u001b[38;5;124;43m\"\u001b[39;49m\u001b[43m,\u001b[49m\u001b[38;5;241;43m10000\u001b[39;49m\u001b[43m)\u001b[49m\n\u001b[0;32m      2\u001b[0m yaathu\u001b[38;5;241m=\u001b[39mbankaccount(\u001b[38;5;124m\"\u001b[39m\u001b[38;5;124myaathu B\u001b[39m\u001b[38;5;124m\"\u001b[39m,\u001b[38;5;241m20000\u001b[39m)\n",
      "\u001b[1;31mTypeError\u001b[0m: bankaccount() takes no arguments"
     ]
    }
   ],
   "source": [
    "kowsi=bankaccount(\"kowsi G\",10000)\n",
    "yaathu=bankaccount(\"yaathu B\",20000)\n"
   ]
  },
  {
   "cell_type": "code",
   "execution_count": 30,
   "metadata": {},
   "outputs": [],
   "source": [
    "#single heriant\n",
    "class father():\n",
    "    def nose(self):\n",
    "        return \"pointed nose\"\n",
    "class child(father):\n",
    "    def hair(self):\n",
    "        return \"long\""
   ]
  },
  {
   "cell_type": "code",
   "execution_count": 32,
   "metadata": {},
   "outputs": [
    {
     "name": "stdout",
     "output_type": "stream",
     "text": [
      "long\n",
      "pointed nose\n"
     ]
    }
   ],
   "source": [
    "a=child()\n",
    "print(a.hair())\n",
    "print(a.nose())"
   ]
  },
  {
   "cell_type": "code",
   "execution_count": 36,
   "metadata": {},
   "outputs": [],
   "source": [
    "#multiple inheriant\n",
    "class father():\n",
    "    def nose(self):\n",
    "        return \"pointed nose\"\n",
    "class mother():\n",
    "    def patience(self):\n",
    "        return (\"romba\")\n",
    "\n",
    "class child(father,mother):\n",
    "    def hair(self):\n",
    "        return \"long\""
   ]
  },
  {
   "cell_type": "code",
   "execution_count": 37,
   "metadata": {},
   "outputs": [
    {
     "name": "stdout",
     "output_type": "stream",
     "text": [
      "long\n",
      "pointed nose\n",
      "romba\n"
     ]
    }
   ],
   "source": [
    "a=child()\n",
    "print(a.hair())\n",
    "print(a.nose())\n",
    "print(a.patience())"
   ]
  },
  {
   "cell_type": "code",
   "execution_count": 39,
   "metadata": {},
   "outputs": [],
   "source": [
    "#multi level inheriant:\n",
    "\n",
    "class grandfather():\n",
    "    def face(self):\n",
    "        return \"terror\"\n",
    "    \n",
    "class father(grandfather):\n",
    "    def nose(self):\n",
    "        return \"pointed nose\"\n",
    "class mother():\n",
    "    def patience(self):\n",
    "        return (\"romba\")\n",
    "\n",
    "class child(father,mother):\n",
    "    def hair(self):\n",
    "        return \"long\"\n",
    "\n",
    "\n"
   ]
  },
  {
   "cell_type": "code",
   "execution_count": 40,
   "metadata": {},
   "outputs": [
    {
     "name": "stdout",
     "output_type": "stream",
     "text": [
      "long\n",
      "pointed nose\n",
      "romba\n",
      "terror\n"
     ]
    }
   ],
   "source": [
    "a=child()\n",
    "print(a.hair())\n",
    "print(a.nose())\n",
    "print(a.patience())\n",
    "print(a.face())"
   ]
  },
  {
   "cell_type": "code",
   "execution_count": 42,
   "metadata": {},
   "outputs": [
    {
     "name": "stdout",
     "output_type": "stream",
     "text": [
      "20\n",
      "10\n"
     ]
    }
   ],
   "source": [
    "#Local variable:\n",
    "x=10\n",
    "def guvi():\n",
    "    y=20\n",
    "    return y \n",
    "print(guvi())\n",
    "print(x)"
   ]
  },
  {
   "cell_type": "code",
   "execution_count": 44,
   "metadata": {},
   "outputs": [
    {
     "name": "stdout",
     "output_type": "stream",
     "text": [
      "20\n",
      "50\n",
      "50\n"
     ]
    }
   ],
   "source": [
    "#Global variable:\n",
    "n=20\n",
    "def guvi():\n",
    "    global n\n",
    "    n=n+30\n",
    "    return n\n",
    "print(n)\n",
    "print(guvi())\n",
    "print(n)"
   ]
  }
 ],
 "metadata": {
  "kernelspec": {
   "display_name": "Python 3",
   "language": "python",
   "name": "python3"
  },
  "language_info": {
   "codemirror_mode": {
    "name": "ipython",
    "version": 3
   },
   "file_extension": ".py",
   "mimetype": "text/x-python",
   "name": "python",
   "nbconvert_exporter": "python",
   "pygments_lexer": "ipython3",
   "version": "3.12.2"
  }
 },
 "nbformat": 4,
 "nbformat_minor": 2
}
