{
 "cells": [
  {
   "cell_type": "code",
   "execution_count": 9,
   "metadata": {},
   "outputs": [
    {
     "name": "stdout",
     "output_type": "stream",
     "text": [
      "kowsi\n"
     ]
    }
   ],
   "source": [
    "#functions\n",
    "def guvi():\n",
    "    print(\"kowsi\")\n",
    "    return \"kowsi is a tall girl\"\n",
    "b = guvi()"
   ]
  },
  {
   "cell_type": "code",
   "execution_count": 14,
   "metadata": {},
   "outputs": [
    {
     "name": "stdout",
     "output_type": "stream",
     "text": [
      "even\n"
     ]
    }
   ],
   "source": [
    "#positional argument\n",
    "def add(num1,num2):\n",
    "    return num1+num2\n",
    "    \n",
    "a=(10,20)\n",
    "def eveodd(num):\n",
    "    if num%2==0:\n",
    "        return(\"even\")\n",
    "    else:\n",
    "        return(\"odd\")\n",
    "a=eveodd(10)\n",
    "print(a)\n"
   ]
  },
  {
   "cell_type": "code",
   "execution_count": 22,
   "metadata": {},
   "outputs": [
    {
     "data": {
      "text/plain": [
       "'even'"
      ]
     },
     "execution_count": 22,
     "metadata": {},
     "output_type": "execute_result"
    }
   ],
   "source": [
    "#Higher order function\n",
    "def eveodd(n1,n2):\n",
    "    x=add(n1,n2)\n",
    "    if x%2==0:\n",
    "        return(\"even\")\n",
    "    else:\n",
    "        return(\"odd\")\n",
    "eveodd(10,20)\n",
    "    "
   ]
  },
  {
   "cell_type": "code",
   "execution_count": 31,
   "metadata": {},
   "outputs": [
    {
     "name": "stdout",
     "output_type": "stream",
     "text": [
      "kowsi, your age is26, today is 25\n",
      "kowsi, your age is26, today is 20\n",
      "kowsi, your age is26, today is 25\n",
      "name, your age is26, today is 1234\n"
     ]
    }
   ],
   "source": [
    "#Default argument or keyword argument\n",
    "def a(name,DOB,CD=25):\n",
    "    age=2024-DOB\n",
    "    return f\"{name}, your age is{age}, today is {CD}\"\n",
    "print(a(\"kowsi\",1998))\n",
    "print(a(\"kowsi\",1998,20))\n",
    "print(a(name=\"kowsi\", CD=25,DOB=1998))\n",
    "print(a(\"name\",1998,CD=1234))"
   ]
  },
  {
   "cell_type": "code",
   "execution_count": 33,
   "metadata": {},
   "outputs": [
    {
     "name": "stdout",
     "output_type": "stream",
     "text": [
      "1\n",
      "2\n",
      "3\n",
      "100\n",
      "5\n",
      "6\n",
      "7\n",
      "8\n",
      "200\n",
      "1000\n"
     ]
    },
    {
     "data": {
      "text/plain": [
       "1332"
      ]
     },
     "execution_count": 33,
     "metadata": {},
     "output_type": "execute_result"
    }
   ],
   "source": [
    "#variable argument\n",
    "def kowsi(*a):\n",
    "    s=0\n",
    "    for i in a:\n",
    "        print(i)\n",
    "        s=s+i\n",
    "    return s\n",
    "        \n",
    "kowsi(1,2,3,100,5,6,7,8,200,1000)"
   ]
  },
  {
   "cell_type": "code",
   "execution_count": 51,
   "metadata": {},
   "outputs": [
    {
     "name": "stdout",
     "output_type": "stream",
     "text": [
      "{'name': 'yaathu', 'lang': 'tamil', 'state': 'TN'}\n",
      "('name', 'yaathu')\n",
      "('lang', 'tamil')\n",
      "('state', 'TN')\n"
     ]
    }
   ],
   "source": [
    "#variable key arguments\n",
    "def kowsi(**kwargs):\n",
    "    print(kwargs)\n",
    "    for i in kwargs.items():\n",
    "     print(i)\n",
    "        \n",
    "kowsi(name=\"yaathu\", lang=\"tamil\",state=(\"TN\"))"
   ]
  }
 ],
 "metadata": {
  "kernelspec": {
   "display_name": "Python 3",
   "language": "python",
   "name": "python3"
  },
  "language_info": {
   "codemirror_mode": {
    "name": "ipython",
    "version": 3
   },
   "file_extension": ".py",
   "mimetype": "text/x-python",
   "name": "python",
   "nbconvert_exporter": "python",
   "pygments_lexer": "ipython3",
   "version": "3.12.2"
  }
 },
 "nbformat": 4,
 "nbformat_minor": 2
}
