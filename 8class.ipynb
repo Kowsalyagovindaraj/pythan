{
 "cells": [
  {
   "cell_type": "code",
   "execution_count": 2,
   "metadata": {},
   "outputs": [
    {
     "name": "stdout",
     "output_type": "stream",
     "text": [
      "30\n"
     ]
    }
   ],
   "source": [
    "#Lambda \n",
    "x=lambda a,b,c:a+b\n",
    "print(x(10,20,30))"
   ]
  },
  {
   "cell_type": "code",
   "execution_count": null,
   "metadata": {},
   "outputs": [
    {
     "name": "stdout",
     "output_type": "stream",
     "text": [
      "30\n"
     ]
    }
   ],
   "source": [
    "#Norml function to Lambda Function\n",
    "def add(a,b):\n",
    "    return a+b\n",
    "x=lambda a,b:add(a,b)\n",
    "print(x(10,20))"
   ]
  },
  {
   "cell_type": "code",
   "execution_count": 4,
   "metadata": {},
   "outputs": [
    {
     "name": "stdout",
     "output_type": "stream",
     "text": [
      "even\n"
     ]
    }
   ],
   "source": [
    "#Lamba to normal function:\n",
    "x=lambda a:\"even\" if a%2==0 else \"odd\"\n",
    "print(x(10))"
   ]
  },
  {
   "cell_type": "code",
   "execution_count": 5,
   "metadata": {},
   "outputs": [
    {
     "name": "stdout",
     "output_type": "stream",
     "text": [
      "even\n"
     ]
    }
   ],
   "source": [
    "def evenodd(a):\n",
    "    return x(a)\n",
    "print (evenodd(10))"
   ]
  },
  {
   "cell_type": "code",
   "execution_count": 8,
   "metadata": {},
   "outputs": [
    {
     "name": "stdout",
     "output_type": "stream",
     "text": [
      "[20, 98, 25, 28, 32]\n"
     ]
    }
   ],
   "source": [
    "#Map filter\n",
    "def adults(x):\n",
    "    if x>=18:\n",
    "        return True\n",
    "    else:\n",
    "        return False\n",
    "a=filter(adults,(20,13,98,25,17,28,16,10,32,15))\n",
    "print(list(a))"
   ]
  },
  {
   "cell_type": "code",
   "execution_count": 9,
   "metadata": {},
   "outputs": [
    {
     "name": "stdout",
     "output_type": "stream",
     "text": [
      "['Error: Failed to connect to database', 'Error: User authentication failed']\n"
     ]
    }
   ],
   "source": [
    "# Sample log data\n",
    "logs = [\n",
    "   \"Error: Failed to connect to database\",\n",
    "   \"Warning: Low disk space on server\",\n",
    "   \"Info: Scheduled backup completed\",\n",
    "   \"Error: User authentication failed\",\n",
    "   \"Warning: High memory usage detected\",\n",
    "   \"Info: Service started successfully\"\n",
    "]\n",
    "\n",
    "a=lambda log: \"Error\" in log\n",
    "print(list(filter(a,logs)))\n"
   ]
  },
  {
   "cell_type": "code",
   "execution_count": 11,
   "metadata": {},
   "outputs": [
    {
     "name": "stdout",
     "output_type": "stream",
     "text": [
      "[3, 6, 9, 12, 15, 18]\n"
     ]
    }
   ],
   "source": [
    "#Map\n",
    "def kowsi(x):\n",
    "    return x*3\n",
    "a=map (kowsi,(1,2,3,4,5,6))\n",
    "print(list(a))"
   ]
  },
  {
   "cell_type": "code",
   "execution_count": 13,
   "metadata": {},
   "outputs": [
    {
     "name": "stdout",
     "output_type": "stream",
     "text": [
      "1 2 3 4 5 6\n"
     ]
    }
   ],
   "source": [
    "a,b,c,d,e,f=map(int,\"123456\")\n",
    "print(a,b,c,d,e,f)\n"
   ]
  },
  {
   "cell_type": "code",
   "execution_count": 15,
   "metadata": {},
   "outputs": [
    {
     "name": "stdout",
     "output_type": "stream",
     "text": [
      "KOWSI YAATHU HARSHI\n"
     ]
    }
   ],
   "source": [
    "def guvi (x):\n",
    "    return x.upper()\n",
    "a,b,c=map(guvi,[\"kowsi\",\"yaathu\",\"harshi\"])\n",
    "print(a,b,c)         "
   ]
  },
  {
   "cell_type": "code",
   "execution_count": 27,
   "metadata": {},
   "outputs": [
    {
     "name": "stdout",
     "output_type": "stream",
     "text": [
      "zipped result: {1: 'a', 2: 'b', 3: 'c', 4: 'd'}\n",
      "1 2 3 4\n",
      "1\n",
      "2\n",
      "3\n",
      "4\n"
     ]
    }
   ],
   "source": [
    "list1=[1,2,3,4]\n",
    "list2 =[\"a\",\"b\",\"c\",\"d\"]\n",
    "\n",
    "#Using the build in zip function:\n",
    "\n",
    "zipped_result1=dict(zip(list1,list2))\n",
    "zipped_result2=list(zip(list1,list2))\n",
    "print(\"zipped result:\",zipped_result)\n",
    "print(*zipped_result)\n",
    "\n",
    "#forloop zip:\n",
    "\n",
    "for i in zipped_result:\n",
    "    print(i)"
   ]
  },
  {
   "cell_type": "code",
   "execution_count": 29,
   "metadata": {},
   "outputs": [],
   "source": [
    "#Recrusive function\n",
    "def factorial (n):\n",
    "    if n==0:\n",
    "        return 1\n",
    "    else:\n",
    "        return n*factorial(n-1)\n",
    "    print(factorial(5))"
   ]
  }
 ],
 "metadata": {
  "kernelspec": {
   "display_name": "Python 3",
   "language": "python",
   "name": "python3"
  },
  "language_info": {
   "codemirror_mode": {
    "name": "ipython",
    "version": 3
   },
   "file_extension": ".py",
   "mimetype": "text/x-python",
   "name": "python",
   "nbconvert_exporter": "python",
   "pygments_lexer": "ipython3",
   "version": "3.12.2"
  }
 },
 "nbformat": 4,
 "nbformat_minor": 2
}
