{
 "cells": [
  {
   "cell_type": "code",
   "execution_count": 1,
   "metadata": {},
   "outputs": [
    {
     "name": "stdout",
     "output_type": "stream",
     "text": [
      "good morning\n",
      "good morning\n",
      "good morning\n",
      "good morning\n",
      "good morning\n"
     ]
    }
   ],
   "source": [
    "#while loop\n",
    "count=1\n",
    "while count<10:\n",
    "    print(\"good morning\")\n",
    "    count=count+2\n"
   ]
  },
  {
   "cell_type": "code",
   "execution_count": 5,
   "metadata": {},
   "outputs": [
    {
     "name": "stdout",
     "output_type": "stream",
     "text": [
      "the marriage is happening \n"
     ]
    }
   ],
   "source": [
    "#Whileloop keywords\n",
    "issue=\"no\"\n",
    "\n",
    "\n",
    "while issue ==\"no\":\n",
    " print(\"the marriage is happening \")\n",
    " issue=input(\"is there any issue still \")\n",
    " if issue==\"small\":\n",
    "   print(\"the marriage is not happening \")\n",
    "   issue=\"no\"\n",
    "   continue\n",
    " if issue==\"yes\":\n",
    "   print(\"the marriage is not happening \")\n",
    "   break\n"
   ]
  },
  {
   "cell_type": "code",
   "execution_count": 11,
   "metadata": {},
   "outputs": [
    {
     "name": "stdout",
     "output_type": "stream",
     "text": [
      "kowsi\n",
      "0\n",
      "kowsi\n",
      "1\n",
      "kowsi\n",
      "2\n",
      "kowsi\n",
      "3\n",
      "kowsi\n",
      "4\n"
     ]
    }
   ],
   "source": [
    "a=0\n",
    "b=0\n",
    "while a<5:\n",
    " print(\"kowsi\")\n",
    " a=a+1\n",
    " while b<5:\n",
    "   print(b)\n",
    "   b=b+1\n",
    "   break"
   ]
  },
  {
   "cell_type": "code",
   "execution_count": 14,
   "metadata": {},
   "outputs": [
    {
     "name": "stdout",
     "output_type": "stream",
     "text": [
      "k y\n",
      "o y\n",
      "w y\n",
      "s y\n",
      "i y\n"
     ]
    }
   ],
   "source": [
    "for i in(\"kowsi\"):\n",
    "    for j in(\"yaathu\"):\n",
    "        print(i,j)\n",
    "        break"
   ]
  },
  {
   "cell_type": "code",
   "execution_count": 24,
   "metadata": {},
   "outputs": [
    {
     "name": "stdout",
     "output_type": "stream",
     "text": [
      "<class 'zip'>\n"
     ]
    }
   ],
   "source": [
    "for i in[\"rajini, kamal,ishwarya\"]:\n",
    "    for j in[\"kant, hasan, rai\"]:\n",
    "      zip (i+j)\n",
    "      print(zip)\n"
   ]
  },
  {
   "cell_type": "code",
   "execution_count": 20,
   "metadata": {},
   "outputs": [
    {
     "name": "stdout",
     "output_type": "stream",
     "text": [
      "TODAY IS WEDNESDAY\n",
      "today is wednesday\n",
      "Today is wednesday\n"
     ]
    }
   ],
   "source": [
    "#sring operations\n",
    "a=(\"today is wednesday\")\n",
    "print(a.upper())\n",
    "print(a.lower())\n",
    "print(a.capitalize())\n",
    "print(a)"
   ]
  }
 ],
 "metadata": {
  "kernelspec": {
   "display_name": "Python 3",
   "language": "python",
   "name": "python3"
  },
  "language_info": {
   "codemirror_mode": {
    "name": "ipython",
    "version": 3
   },
   "file_extension": ".py",
   "mimetype": "text/x-python",
   "name": "python",
   "nbconvert_exporter": "python",
   "pygments_lexer": "ipython3",
   "version": "3.12.2"
  }
 },
 "nbformat": 4,
 "nbformat_minor": 2
}
