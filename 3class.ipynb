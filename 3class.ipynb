{
 "cells": [
  {
   "cell_type": "code",
   "execution_count": 3,
   "metadata": {},
   "outputs": [
    {
     "name": "stdout",
     "output_type": "stream",
     "text": [
      "False\n",
      "True\n",
      "False\n",
      "False\n"
     ]
    }
   ],
   "source": [
    "#Logical Operators\n",
    "print(True and False)\n",
    "print (True and True)\n",
    "print(False and True)\n",
    "print(False and False)"
   ]
  },
  {
   "cell_type": "code",
   "execution_count": 5,
   "metadata": {},
   "outputs": [
    {
     "name": "stdout",
     "output_type": "stream",
     "text": [
      "False\n",
      "True\n",
      "True\n",
      "False\n"
     ]
    }
   ],
   "source": [
    "print(not True)\n",
    "print(not False)\n",
    "print(False or True and True)\n",
    "print(True and False and True)"
   ]
  },
  {
   "cell_type": "code",
   "execution_count": 7,
   "metadata": {},
   "outputs": [
    {
     "name": "stdout",
     "output_type": "stream",
     "text": [
      "True\n"
     ]
    }
   ],
   "source": [
    "print(True or False and not False)"
   ]
  },
  {
   "cell_type": "code",
   "execution_count": 8,
   "metadata": {},
   "outputs": [
    {
     "name": "stdout",
     "output_type": "stream",
     "text": [
      "success\n"
     ]
    }
   ],
   "source": [
    "a=input(\"user name\")\n",
    "b=input(\"password\")\n",
    "\n",
    "if a and b:\n",
    "    print(\"success\")\n",
    "else:\n",
    "    print(\"fail\")"
   ]
  },
  {
   "cell_type": "code",
   "execution_count": 9,
   "metadata": {},
   "outputs": [
    {
     "name": "stdout",
     "output_type": "stream",
     "text": [
      "True\n"
     ]
    }
   ],
   "source": [
    "#conditions\n",
    "\n",
    "if True:\n",
    "    print(\"True\")\n",
    "else:\n",
    "    print(\"False\")\n"
   ]
  },
  {
   "cell_type": "code",
   "execution_count": 5,
   "metadata": {},
   "outputs": [
    {
     "name": "stdout",
     "output_type": "stream",
     "text": [
      "successfully logged\n"
     ]
    }
   ],
   "source": [
    "a=input(\"user name\")\n",
    "b=input(\"password\")\n",
    "if a==b:\n",
    "    print(\"success\")\n",
    "elif b==(\"kowsi\"):\n",
    "    print(\"successfully logged\")\n",
    "else:\n",
    "    print(\"fail\")\n"
   ]
  },
  {
   "cell_type": "code",
   "execution_count": 4,
   "metadata": {},
   "outputs": [],
   "source": [
    "card = input(\"enter card number\")\n",
    "balance=10000\n",
    "if len (card)== 16:\n",
    "    print(\"valid\")\n",
    "    pin=input(\"enterv your pin\")\n",
    "    if pin ==\"1234\":\n",
    "        print(\"successfully logged\")\n",
    "        transaction=input(\"enter your transaction W or D\")\n",
    "        if (transaction==\"W\" or transaction==\"w\"):\n",
    "          amount=int(input(\"enter the amount:\"))\n",
    "          if amount < balance:\n",
    "              balance=balance-amount\n",
    "              print(\"your balance is\",balance)\n",
    "          else:\n",
    "              print(\"no balance\")\n",
    "        else:\n",
    "            print(\"your balance is\", balance)\n",
    "        \n",
    "    else:(\"invalid\")\n",
    "else:(\"card carefull\")"
   ]
  },
  {
   "cell_type": "code",
   "execution_count": 6,
   "metadata": {},
   "outputs": [
    {
     "name": "stdout",
     "output_type": "stream",
     "text": [
      "K\n",
      "O\n",
      "W\n",
      "S\n",
      "I\n"
     ]
    }
   ],
   "source": [
    "#loops\n",
    "for i in \"kowsi\":\n",
    "    print(i.upper())"
   ]
  },
  {
   "cell_type": "code",
   "execution_count": 7,
   "metadata": {},
   "outputs": [
    {
     "name": "stdout",
     "output_type": "stream",
     "text": [
      "2\n",
      "3\n",
      "4\n",
      "5\n",
      "6\n",
      "7\n",
      "8\n",
      "9\n",
      "10\n"
     ]
    }
   ],
   "source": [
    "for i in range(2,11):\n",
    "    print(i)"
   ]
  },
  {
   "cell_type": "code",
   "execution_count": 14,
   "metadata": {},
   "outputs": [
    {
     "name": "stdout",
     "output_type": "stream",
     "text": [
      "K\n",
      "O\n",
      "W\n",
      "S\n",
      "I\n",
      "5\n"
     ]
    }
   ],
   "source": [
    "co=0\n",
    "for i in\"kowsi\":\n",
    "    print(i.upper())\n",
    "    co=co+1\n",
    "print(co)"
   ]
  }
 ],
 "metadata": {
  "kernelspec": {
   "display_name": "Python 3",
   "language": "python",
   "name": "python3"
  },
  "language_info": {
   "codemirror_mode": {
    "name": "ipython",
    "version": 3
   },
   "file_extension": ".py",
   "mimetype": "text/x-python",
   "name": "python",
   "nbconvert_exporter": "python",
   "pygments_lexer": "ipython3",
   "version": "3.12.2"
  }
 },
 "nbformat": 4,
 "nbformat_minor": 2
}
